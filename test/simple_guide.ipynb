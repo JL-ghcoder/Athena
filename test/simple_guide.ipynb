{
 "cells": [
  {
   "cell_type": "code",
   "execution_count": 2,
   "metadata": {},
   "outputs": [],
   "source": [
    "import sys\n",
    "sys.path.append('/Users/syesw/Desktop/JL-Code_Project/athena')"
   ]
  },
  {
   "cell_type": "code",
   "execution_count": 5,
   "metadata": {},
   "outputs": [],
   "source": [
    "from athena import Strategy, Backtest\n",
    "\n",
    "import pandas as pd"
   ]
  },
  {
   "cell_type": "code",
   "execution_count": 6,
   "metadata": {},
   "outputs": [],
   "source": [
    "MULTIPLE_ASSETS_DATA = pd.DataFrame(\n",
    "    index=['2023-10-18', '2023-10-19', '2023-10-20'],\n",
    "    data={\n",
    "        ('AAA','Open'): [100.0, 200.0, 300.0],\n",
    "        ('AAA','High'): [100.0, 200.0, 300.0],\n",
    "        ('AAA','Low'): [100.0, 200.0, 300.0],\n",
    "        ('AAA','Close'): [100.0, 200.0, 300.0],\n",
    "        ('AAA','Volume'): [2000000, 2500000, 3000000],\n",
    "        ('BBB','Open'): [2850.0, 2835.0, 2820.0],\n",
    "        ('BBB','High'): [2860.0, 2835.0, 2825.0],\n",
    "        ('BBB','Low'): [2840.0, 2805.0, 2800.0],\n",
    "        ('BBB','Close'): [2840.0, 2815.0, 2810.0],\n",
    "        ('BBB','Volume'): [1500000, 1700000, 1600000]\n",
    "    }\n",
    ")"
   ]
  },
  {
   "cell_type": "code",
   "execution_count": 10,
   "metadata": {},
   "outputs": [
    {
     "data": {
      "text/html": [
       "<div>\n",
       "<style scoped>\n",
       "    .dataframe tbody tr th:only-of-type {\n",
       "        vertical-align: middle;\n",
       "    }\n",
       "\n",
       "    .dataframe tbody tr th {\n",
       "        vertical-align: top;\n",
       "    }\n",
       "\n",
       "    .dataframe thead tr th {\n",
       "        text-align: left;\n",
       "    }\n",
       "</style>\n",
       "<table border=\"1\" class=\"dataframe\">\n",
       "  <thead>\n",
       "    <tr>\n",
       "      <th></th>\n",
       "      <th colspan=\"5\" halign=\"left\">AAA</th>\n",
       "      <th colspan=\"5\" halign=\"left\">BBB</th>\n",
       "    </tr>\n",
       "    <tr>\n",
       "      <th></th>\n",
       "      <th>Open</th>\n",
       "      <th>High</th>\n",
       "      <th>Low</th>\n",
       "      <th>Close</th>\n",
       "      <th>Volume</th>\n",
       "      <th>Open</th>\n",
       "      <th>High</th>\n",
       "      <th>Low</th>\n",
       "      <th>Close</th>\n",
       "      <th>Volume</th>\n",
       "    </tr>\n",
       "  </thead>\n",
       "  <tbody>\n",
       "    <tr>\n",
       "      <th>2023-10-18</th>\n",
       "      <td>100.0</td>\n",
       "      <td>100.0</td>\n",
       "      <td>100.0</td>\n",
       "      <td>100.0</td>\n",
       "      <td>2000000</td>\n",
       "      <td>2850.0</td>\n",
       "      <td>2860.0</td>\n",
       "      <td>2840.0</td>\n",
       "      <td>2840.0</td>\n",
       "      <td>1500000</td>\n",
       "    </tr>\n",
       "    <tr>\n",
       "      <th>2023-10-19</th>\n",
       "      <td>200.0</td>\n",
       "      <td>200.0</td>\n",
       "      <td>200.0</td>\n",
       "      <td>200.0</td>\n",
       "      <td>2500000</td>\n",
       "      <td>2835.0</td>\n",
       "      <td>2835.0</td>\n",
       "      <td>2805.0</td>\n",
       "      <td>2815.0</td>\n",
       "      <td>1700000</td>\n",
       "    </tr>\n",
       "    <tr>\n",
       "      <th>2023-10-20</th>\n",
       "      <td>300.0</td>\n",
       "      <td>300.0</td>\n",
       "      <td>300.0</td>\n",
       "      <td>300.0</td>\n",
       "      <td>3000000</td>\n",
       "      <td>2820.0</td>\n",
       "      <td>2825.0</td>\n",
       "      <td>2800.0</td>\n",
       "      <td>2810.0</td>\n",
       "      <td>1600000</td>\n",
       "    </tr>\n",
       "  </tbody>\n",
       "</table>\n",
       "</div>"
      ],
      "text/plain": [
       "              AAA                                   BBB                  \\\n",
       "             Open   High    Low  Close   Volume    Open    High     Low   \n",
       "2023-10-18  100.0  100.0  100.0  100.0  2000000  2850.0  2860.0  2840.0   \n",
       "2023-10-19  200.0  200.0  200.0  200.0  2500000  2835.0  2835.0  2805.0   \n",
       "2023-10-20  300.0  300.0  300.0  300.0  3000000  2820.0  2825.0  2800.0   \n",
       "\n",
       "                             \n",
       "             Close   Volume  \n",
       "2023-10-18  2840.0  1500000  \n",
       "2023-10-19  2815.0  1700000  \n",
       "2023-10-20  2810.0  1600000  "
      ]
     },
     "execution_count": 10,
     "metadata": {},
     "output_type": "execute_result"
    }
   ],
   "source": [
    "MULTIPLE_ASSETS_DATA"
   ]
  },
  {
   "cell_type": "code",
   "execution_count": 7,
   "metadata": {},
   "outputs": [],
   "source": [
    "class SingleAssetStrategy(Strategy):\n",
    "    def init(self):\n",
    "        print(self.records)\n",
    "\n",
    "    def next(self, i, record):\n",
    "        if i == 0:\n",
    "            # 以当天的开盘价建立仓位\n",
    "            self.open(symbol='AAA', price=record[('AAA','Open')], short=True)\n",
    "            print(self.open_positions)\n",
    "        if i == 2:\n",
    "            self.close(symbol='AAA', price=record[('AAA','Open')])\n",
    "            print(self.open_positions)"
   ]
  },
  {
   "cell_type": "code",
   "execution_count": 8,
   "metadata": {},
   "outputs": [],
   "source": [
    "backtest = Backtest(SingleAssetStrategy, MULTIPLE_ASSETS_DATA, commission=.001, cash=1000000)"
   ]
  },
  {
   "cell_type": "code",
   "execution_count": 9,
   "metadata": {},
   "outputs": [
    {
     "name": "stdout",
     "output_type": "stream",
     "text": [
      "[{('AAA', 'Open'): 100.0, ('AAA', 'High'): 100.0, ('AAA', 'Low'): 100.0, ('AAA', 'Close'): 100.0, ('AAA', 'Volume'): 2000000, ('BBB', 'Open'): 2850.0, ('BBB', 'High'): 2860.0, ('BBB', 'Low'): 2840.0, ('BBB', 'Close'): 2840.0, ('BBB', 'Volume'): 1500000}, {('AAA', 'Open'): 200.0, ('AAA', 'High'): 200.0, ('AAA', 'Low'): 200.0, ('AAA', 'Close'): 200.0, ('AAA', 'Volume'): 2500000, ('BBB', 'Open'): 2835.0, ('BBB', 'High'): 2835.0, ('BBB', 'Low'): 2805.0, ('BBB', 'Close'): 2815.0, ('BBB', 'Volume'): 1700000}, {('AAA', 'Open'): 300.0, ('AAA', 'High'): 300.0, ('AAA', 'Low'): 300.0, ('AAA', 'Close'): 300.0, ('AAA', 'Volume'): 3000000, ('BBB', 'Open'): 2820.0, ('BBB', 'High'): 2825.0, ('BBB', 'Low'): 2800.0, ('BBB', 'Close'): 2810.0, ('BBB', 'Volume'): 1600000}]\n",
      "[Position(symbol='AAA', open_date='2023-10-18', last_date='2023-10-18', open_price=100.0, last_price=100.0, position_size=9990.00999000999, profit_loss=0.0, change_pct=0.0, current_value=999000.999000999, is_short=True)]\n",
      "[]\n"
     ]
    }
   ],
   "source": [
    "res = backtest.run()"
   ]
  }
 ],
 "metadata": {
  "kernelspec": {
   "display_name": "py310",
   "language": "python",
   "name": "python3"
  },
  "language_info": {
   "codemirror_mode": {
    "name": "ipython",
    "version": 3
   },
   "file_extension": ".py",
   "mimetype": "text/x-python",
   "name": "python",
   "nbconvert_exporter": "python",
   "pygments_lexer": "ipython3",
   "version": "3.10.15"
  }
 },
 "nbformat": 4,
 "nbformat_minor": 2
}
