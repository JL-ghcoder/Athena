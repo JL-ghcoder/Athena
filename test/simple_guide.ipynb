{
 "cells": [
  {
   "cell_type": "code",
   "execution_count": 2,
   "metadata": {},
   "outputs": [],
   "source": [
    "import sys\n",
    "sys.path.append('/Users/syesw/Desktop/JL-Code_Project/athena')"
   ]
  },
  {
   "cell_type": "code",
   "execution_count": 5,
   "metadata": {},
   "outputs": [],
   "source": [
    "from athena import Strategy, Backtest\n",
    "\n",
    "import pandas as pd"
   ]
  },
  {
   "cell_type": "code",
   "execution_count": 6,
   "metadata": {},
   "outputs": [],
   "source": [
    "MULTIPLE_ASSETS_DATA = pd.DataFrame(\n",
    "    index=['2023-10-18', '2023-10-19', '2023-10-20'],\n",
    "    data={\n",
    "        ('AAA','Open'): [100.0, 200.0, 300.0],\n",
    "        ('AAA','High'): [100.0, 200.0, 300.0],\n",
    "        ('AAA','Low'): [100.0, 200.0, 300.0],\n",
    "        ('AAA','Close'): [100.0, 200.0, 300.0],\n",
    "        ('AAA','Volume'): [2000000, 2500000, 3000000],\n",
    "        ('BBB','Open'): [2850.0, 2835.0, 2820.0],\n",
    "        ('BBB','High'): [2860.0, 2835.0, 2825.0],\n",
    "        ('BBB','Low'): [2840.0, 2805.0, 2800.0],\n",
    "        ('BBB','Close'): [2840.0, 2815.0, 2810.0],\n",
    "        ('BBB','Volume'): [1500000, 1700000, 1600000]\n",
    "    }\n",
    ")"
   ]
  },
  {
   "cell_type": "code",
   "execution_count": 7,
   "metadata": {},
   "outputs": [],
   "source": [
    "class SingleAssetStrategy(Strategy):\n",
    "    def init(self):\n",
    "        print(self.records)\n",
    "\n",
    "    def next(self, i, record):\n",
    "        if i == 0:\n",
    "            # 以当天的开盘价建立仓位\n",
    "            self.open(symbol='AAA', price=record[('AAA','Open')], short=True)\n",
    "            print(self.open_positions)\n",
    "        if i == 2:\n",
    "            self.close(symbol='AAA', price=record[('AAA','Open')])\n",
    "            print(self.open_positions)"
   ]
  },
  {
   "cell_type": "code",
   "execution_count": 8,
   "metadata": {},
   "outputs": [],
   "source": [
    "backtest = Backtest(SingleAssetStrategy, MULTIPLE_ASSETS_DATA, commission=.001, cash=1000000)"
   ]
  },
  {
   "cell_type": "code",
   "execution_count": 9,
   "metadata": {},
   "outputs": [
    {
     "name": "stdout",
     "output_type": "stream",
     "text": [
      "[{('AAA', 'Open'): 100.0, ('AAA', 'High'): 100.0, ('AAA', 'Low'): 100.0, ('AAA', 'Close'): 100.0, ('AAA', 'Volume'): 2000000, ('BBB', 'Open'): 2850.0, ('BBB', 'High'): 2860.0, ('BBB', 'Low'): 2840.0, ('BBB', 'Close'): 2840.0, ('BBB', 'Volume'): 1500000}, {('AAA', 'Open'): 200.0, ('AAA', 'High'): 200.0, ('AAA', 'Low'): 200.0, ('AAA', 'Close'): 200.0, ('AAA', 'Volume'): 2500000, ('BBB', 'Open'): 2835.0, ('BBB', 'High'): 2835.0, ('BBB', 'Low'): 2805.0, ('BBB', 'Close'): 2815.0, ('BBB', 'Volume'): 1700000}, {('AAA', 'Open'): 300.0, ('AAA', 'High'): 300.0, ('AAA', 'Low'): 300.0, ('AAA', 'Close'): 300.0, ('AAA', 'Volume'): 3000000, ('BBB', 'Open'): 2820.0, ('BBB', 'High'): 2825.0, ('BBB', 'Low'): 2800.0, ('BBB', 'Close'): 2810.0, ('BBB', 'Volume'): 1600000}]\n",
      "[Position(symbol='AAA', open_date='2023-10-18', last_date='2023-10-18', open_price=100.0, last_price=100.0, position_size=9990.00999000999, profit_loss=0.0, change_pct=0.0, current_value=999000.999000999, is_short=True)]\n",
      "[]\n"
     ]
    }
   ],
   "source": [
    "res = backtest.run()"
   ]
  }
 ],
 "metadata": {
  "kernelspec": {
   "display_name": "py310",
   "language": "python",
   "name": "python3"
  },
  "language_info": {
   "codemirror_mode": {
    "name": "ipython",
    "version": 3
   },
   "file_extension": ".py",
   "mimetype": "text/x-python",
   "name": "python",
   "nbconvert_exporter": "python",
   "pygments_lexer": "ipython3",
   "version": "3.10.15"
  }
 },
 "nbformat": 4,
 "nbformat_minor": 2
}
