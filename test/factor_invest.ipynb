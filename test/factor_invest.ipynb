{
 "cells": [
  {
   "cell_type": "code",
   "execution_count": 14,
   "metadata": {},
   "outputs": [],
   "source": [
    "import sys\n",
    "import os\n",
    "sys.path.append('/Users/syesw/Desktop/JL-Code_Project/athena')"
   ]
  },
  {
   "cell_type": "code",
   "execution_count": 15,
   "metadata": {},
   "outputs": [],
   "source": [
    "from dotenv import load_dotenv\n",
    "load_dotenv()\n",
    "\n",
    "rqdata_username = os.getenv('RQDATA_USERNAME')\n",
    "rqdata_password = os.getenv('RQDATA_PASSWORD')"
   ]
  },
  {
   "cell_type": "code",
   "execution_count": 16,
   "metadata": {},
   "outputs": [],
   "source": [
    "import rqdatac as rq"
   ]
  },
  {
   "cell_type": "code",
   "execution_count": 17,
   "metadata": {},
   "outputs": [],
   "source": [
    "from athena import RiceQuantDataHandler, Strategy, Backtest\n",
    "from athena import sort_the_factor\n",
    "from athena import run_weekly, run_monthly"
   ]
  },
  {
   "cell_type": "code",
   "execution_count": 18,
   "metadata": {},
   "outputs": [
    {
     "name": "stderr",
     "output_type": "stream",
     "text": [
      "/Users/syesw/anaconda3/envs/py310/lib/python3.10/site-packages/rqdatac/client.py:211: UserWarning: rqdatac is already inited. Settings will be changed.\n",
      "  warnings.warn(\"rqdatac is already inited. Settings will be changed.\", stacklevel=0)\n"
     ]
    }
   ],
   "source": [
    "# 设置时间范围\n",
    "start_date = '2020-01-01'\n",
    "end_date = '2021-01-01'\n",
    "#asset_list = ['000651.XSHE', '600000.XSHG']\n",
    "#asset_list = rq.index_components('000300.XSHG')\n",
    "rqdata = RiceQuantDataHandler(start_date, end_date)\n",
    "rqdata.auth(rqdata_username,rqdata_password)\n",
    "\n",
    "asset_list = rqdata.get_index_list('000300.XSHG')"
   ]
  },
  {
   "cell_type": "code",
   "execution_count": 19,
   "metadata": {},
   "outputs": [
    {
     "data": {
      "text/plain": [
       "300"
      ]
     },
     "execution_count": 19,
     "metadata": {},
     "output_type": "execute_result"
    }
   ],
   "source": [
    "len(asset_list)"
   ]
  },
  {
   "cell_type": "code",
   "execution_count": 20,
   "metadata": {},
   "outputs": [
    {
     "name": "stdout",
     "output_type": "stream",
     "text": [
      "开始获取数据\n",
      "数据获取完成\n",
      "开始转换数据结构\n"
     ]
    }
   ],
   "source": [
    "factor_data = rqdata.get_factors_from_ricequant(list=asset_list, factors=['market_cap'])"
   ]
  },
  {
   "cell_type": "code",
   "execution_count": 21,
   "metadata": {},
   "outputs": [
    {
     "name": "stdout",
     "output_type": "stream",
     "text": [
      "开始获取数据\n",
      "数据获取完成\n",
      "开始转换数据结构\n"
     ]
    }
   ],
   "source": [
    "backtest_data = rqdata.get_prices_from_ricequant(list=asset_list, fields=['open', 'high', 'low', 'close', 'volume'])"
   ]
  },
  {
   "cell_type": "code",
   "execution_count": 22,
   "metadata": {},
   "outputs": [],
   "source": [
    "class SingleAssetStrategy(Strategy):\n",
    "    def init(self):\n",
    "        print(\"回测准备:\")\n",
    "        self.first_time = True\n",
    "\n",
    "    @run_monthly\n",
    "    def next(self, i, record):\n",
    "        print(\"----------------------\")\n",
    "        date = self.data.index[i]\n",
    "        print(str(date) + ': ')\n",
    "\n",
    "        current_long_positions, current_short_positions = self.current_position_status()\n",
    "        print(\"我目前持仓情况:\")\n",
    "        print(\"多头仓位:\", current_long_positions)\n",
    "        print(\"空头仓位:\", current_short_positions)\n",
    "\n",
    "        day_factors = factor_data.loc[date] # 当天的因子数据\n",
    "        sorted_factor_series = sort_the_factor(day_factors, 'market_cap') # 从高到低排因子\n",
    "\n",
    "        print('因子排名前5的股票:')\n",
    "        print(sorted_factor_series[:5].index.tolist())\n",
    "        short_stocks = sorted_factor_series[:5].index.tolist()\n",
    "        print('因子排名后5的股票:')\n",
    "        print(sorted_factor_series[-5:].index.tolist())\n",
    "        long_stocks = sorted_factor_series[-5:].index.tolist()\n",
    "\n",
    "        # 先换仓\n",
    "        long_closed = short_closed = 0\n",
    "        for stock in current_long_positions:\n",
    "            # 对于我目前的所有多头仓位,如果不在新的list里，则平仓\n",
    "            if stock not in long_stocks:\n",
    "                print(\"关多仓:\", stock)\n",
    "                self.close(symbol=stock, price=record[(stock,'Close')])\n",
    "                long_closed += 1\n",
    "        for stock in current_short_positions:\n",
    "            if stock not in short_stocks:\n",
    "                print(\"关空仓:\", stock)\n",
    "                self.close(symbol=stock, price=record[(stock,'Close')])\n",
    "                short_closed += 1\n",
    "\n",
    "        total_closed = long_closed + short_closed\n",
    "        if self.first_time == True:\n",
    "            re_invest_size = 1 / 10 # 10只股票\n",
    "        else: re_invest_size = 1 / total_closed\n",
    "\n",
    "        # 买进新的股票\n",
    "        # 这里的换仓逻辑是，不去干涉已经开仓的股票(不加仓)\n",
    "        # 对于新开仓的股票，按可分配资金的数量(1/total_closed)来开仓\n",
    "        # 这样做实现了滚仓的效果\n",
    "        for stock in long_stocks:\n",
    "            if long_closed == 0 and self.first_time == False:\n",
    "                break\n",
    "            if stock not in current_long_positions:\n",
    "                print(\"新开多仓:\", stock)\n",
    "                self.open(symbol=stock, size=re_invest_size, price=record[(stock,'Open')], short=False)\n",
    "                long_closed -= 1\n",
    "        for stock in short_stocks:\n",
    "            if short_closed == 0 and self.first_time == False:\n",
    "                break\n",
    "            if stock not in current_short_positions:\n",
    "                print(\"新开空仓:\", stock)\n",
    "                self.open(symbol=stock, size=re_invest_size, price=record[(stock,'Open')], short=True)\n",
    "                short_closed -= 1\n",
    "        \n",
    "        self.first_time == False\n",
    "\n",
    "        print(\"----------------------\")\n"
   ]
  },
  {
   "cell_type": "code",
   "execution_count": 23,
   "metadata": {},
   "outputs": [],
   "source": [
    "backtest = Backtest(SingleAssetStrategy, backtest_data, commission=.001, cash=1000000)"
   ]
  },
  {
   "cell_type": "code",
   "execution_count": 24,
   "metadata": {},
   "outputs": [
    {
     "name": "stdout",
     "output_type": "stream",
     "text": [
      "回测准备:\n",
      "----------------------\n",
      "2020-01-02 00:00:00: \n",
      "我目前持仓情况:\n",
      "多头仓位: []\n",
      "空头仓位: []\n",
      "因子排名前5的股票:\n",
      "['601398.XSHG', '601939.XSHG', '601318.XSHG', '600519.XSHG', '601288.XSHG']\n",
      "因子排名后5的股票:\n",
      "['601216.XSHG', '600998.XSHG', '600522.XSHG', '600118.XSHG', '002414.XSHE']\n",
      "新开多仓: 601216.XSHG\n",
      "新开多仓: 600998.XSHG\n",
      "新开多仓: 600522.XSHG\n",
      "新开多仓: 600118.XSHG\n",
      "新开多仓: 002414.XSHE\n",
      "新开空仓: 601398.XSHG\n",
      "新开空仓: 601939.XSHG\n",
      "新开空仓: 601318.XSHG\n",
      "新开空仓: 600519.XSHG\n",
      "新开空仓: 601288.XSHG\n",
      "----------------------\n",
      "----------------------\n",
      "2020-02-03 00:00:00: \n",
      "我目前持仓情况:\n",
      "多头仓位: ['601216.XSHG', '600998.XSHG', '600522.XSHG', '600118.XSHG', '002414.XSHE']\n",
      "空头仓位: ['601398.XSHG', '601939.XSHG', '601318.XSHG', '600519.XSHG', '601288.XSHG']\n",
      "因子排名前5的股票:\n",
      "['601398.XSHG', '601939.XSHG', '601318.XSHG', '600519.XSHG', '601288.XSHG']\n",
      "因子排名后5的股票:\n",
      "['600369.XSHG', '601555.XSHG', '600109.XSHG', '600522.XSHG', '601216.XSHG']\n",
      "关多仓: 600998.XSHG\n",
      "关多仓: 600118.XSHG\n",
      "关多仓: 002414.XSHE\n",
      "新开多仓: 600369.XSHG\n",
      "新开多仓: 601555.XSHG\n",
      "新开多仓: 600109.XSHG\n",
      "----------------------\n",
      "----------------------\n",
      "2020-03-04 00:00:00: \n",
      "我目前持仓情况:\n",
      "多头仓位: ['601216.XSHG', '600522.XSHG', '600369.XSHG', '601555.XSHG', '600109.XSHG']\n",
      "空头仓位: ['601398.XSHG', '601939.XSHG', '601318.XSHG', '600519.XSHG', '601288.XSHG']\n",
      "因子排名前5的股票:\n",
      "['601398.XSHG', '601939.XSHG', '601318.XSHG', '600519.XSHG', '601288.XSHG']\n",
      "因子排名后5的股票:\n",
      "['603156.XSHG', '601577.XSHG', '600522.XSHG', '600150.XSHG', '601216.XSHG']\n",
      "关多仓: 600369.XSHG\n",
      "关多仓: 601555.XSHG\n",
      "关多仓: 600109.XSHG\n",
      "新开多仓: 603156.XSHG\n",
      "新开多仓: 601577.XSHG\n",
      "新开多仓: 600150.XSHG\n",
      "----------------------\n",
      "----------------------\n",
      "2020-04-03 00:00:00: \n",
      "我目前持仓情况:\n",
      "多头仓位: ['601216.XSHG', '600522.XSHG', '603156.XSHG', '601577.XSHG', '600150.XSHG']\n",
      "空头仓位: ['601398.XSHG', '601939.XSHG', '601318.XSHG', '600519.XSHG', '601288.XSHG']\n",
      "因子排名前5的股票:\n",
      "['601398.XSHG', '601939.XSHG', '600519.XSHG', '601318.XSHG', '601288.XSHG']\n",
      "因子排名后5的股票:\n",
      "['601577.XSHG', '600208.XSHG', '600369.XSHG', '002958.XSHE', '601216.XSHG']\n",
      "关多仓: 600522.XSHG\n",
      "关多仓: 603156.XSHG\n",
      "关多仓: 600150.XSHG\n",
      "新开多仓: 600208.XSHG\n",
      "新开多仓: 600369.XSHG\n",
      "新开多仓: 002958.XSHE\n",
      "----------------------\n",
      "----------------------\n",
      "2020-05-06 00:00:00: \n",
      "我目前持仓情况:\n",
      "多头仓位: ['601216.XSHG', '601577.XSHG', '600208.XSHG', '600369.XSHG', '002958.XSHE']\n",
      "空头仓位: ['601398.XSHG', '601939.XSHG', '601318.XSHG', '600519.XSHG', '601288.XSHG']\n",
      "因子排名前5的股票:\n",
      "['601398.XSHG', '600519.XSHG', '601939.XSHG', '601318.XSHG', '601288.XSHG']\n",
      "因子排名后5的股票:\n",
      "['601577.XSHG', '600369.XSHG', '002958.XSHE', '601216.XSHG', '603392.XSHG']\n",
      "关多仓: 600208.XSHG\n",
      "新开多仓: 603392.XSHG\n",
      "----------------------\n",
      "----------------------\n",
      "2020-06-05 00:00:00: \n",
      "我目前持仓情况:\n",
      "多头仓位: ['601216.XSHG', '601577.XSHG', '600369.XSHG', '002958.XSHE', '603392.XSHG']\n",
      "空头仓位: ['601398.XSHG', '601939.XSHG', '601318.XSHG', '600519.XSHG', '601288.XSHG']\n",
      "因子排名前5的股票:\n",
      "['601398.XSHG', '600519.XSHG', '601939.XSHG', '601318.XSHG', '601288.XSHG']\n",
      "因子排名后5的股票:\n",
      "['600208.XSHG', '600369.XSHG', '000627.XSHE', '002958.XSHE', '601216.XSHG']\n",
      "关多仓: 601577.XSHG\n",
      "关多仓: 603392.XSHG\n",
      "新开多仓: 600208.XSHG\n",
      "新开多仓: 000627.XSHE\n",
      "----------------------\n",
      "----------------------\n",
      "2020-07-06 00:00:00: \n",
      "我目前持仓情况:\n",
      "多头仓位: ['601216.XSHG', '600369.XSHG', '002958.XSHE', '600208.XSHG', '000627.XSHE']\n",
      "空头仓位: ['601398.XSHG', '601939.XSHG', '601318.XSHG', '600519.XSHG', '601288.XSHG']\n",
      "因子排名前5的股票:\n",
      "['600519.XSHG', '601398.XSHG', '601939.XSHG', '601318.XSHG', '601288.XSHG']\n",
      "因子排名后5的股票:\n",
      "['603156.XSHG', '600066.XSHG', '600297.XSHG', '000723.XSHE', '601216.XSHG']\n",
      "关多仓: 600369.XSHG\n",
      "关多仓: 002958.XSHE\n",
      "关多仓: 600208.XSHG\n",
      "关多仓: 000627.XSHE\n",
      "新开多仓: 603156.XSHG\n",
      "新开多仓: 600066.XSHG\n",
      "新开多仓: 600297.XSHG\n",
      "新开多仓: 000723.XSHE\n",
      "----------------------\n",
      "----------------------\n",
      "2020-08-05 00:00:00: \n",
      "我目前持仓情况:\n",
      "多头仓位: ['601216.XSHG', '603156.XSHG', '600066.XSHG', '600297.XSHG', '000723.XSHE']\n",
      "空头仓位: ['601398.XSHG', '601939.XSHG', '601318.XSHG', '600519.XSHG', '601288.XSHG']\n",
      "因子排名前5的股票:\n",
      "['600519.XSHG', '601398.XSHG', '601939.XSHG', '601318.XSHG', '601288.XSHG']\n",
      "因子排名后5的股票:\n",
      "['000627.XSHE', '600004.XSHG', '601117.XSHG', '000671.XSHE', '000723.XSHE']\n",
      "关多仓: 601216.XSHG\n",
      "关多仓: 603156.XSHG\n",
      "关多仓: 600066.XSHG\n",
      "关多仓: 600297.XSHG\n",
      "新开多仓: 000627.XSHE\n",
      "新开多仓: 600004.XSHG\n",
      "新开多仓: 601117.XSHG\n",
      "新开多仓: 000671.XSHE\n",
      "----------------------\n",
      "----------------------\n",
      "2020-09-04 00:00:00: \n",
      "我目前持仓情况:\n",
      "多头仓位: ['000723.XSHE', '000627.XSHE', '600004.XSHG', '601117.XSHG', '000671.XSHE']\n",
      "空头仓位: ['601398.XSHG', '601939.XSHG', '601318.XSHG', '600519.XSHG', '601288.XSHG']\n",
      "因子排名前5的股票:\n",
      "['600519.XSHG', '601398.XSHG', '601939.XSHG', '601318.XSHG', '601628.XSHG']\n",
      "因子排名后5的股票:\n",
      "['000671.XSHE', '600068.XSHG', '601117.XSHG', '000723.XSHE', '000627.XSHE']\n",
      "关多仓: 600004.XSHG\n",
      "关空仓: 601288.XSHG\n",
      "新开多仓: 600068.XSHG\n",
      "新开空仓: 601628.XSHG\n",
      "----------------------\n",
      "----------------------\n",
      "2020-10-09 00:00:00: \n",
      "我目前持仓情况:\n",
      "多头仓位: ['000723.XSHE', '000627.XSHE', '601117.XSHG', '000671.XSHE', '600068.XSHG']\n",
      "空头仓位: ['601398.XSHG', '601939.XSHG', '601318.XSHG', '600519.XSHG', '601628.XSHG']\n",
      "因子排名前5的股票:\n",
      "['600519.XSHG', '601398.XSHG', '601939.XSHG', '601318.XSHG', '601628.XSHG']\n",
      "因子排名后5的股票:\n",
      "['600068.XSHG', '600297.XSHG', '601117.XSHG', '000627.XSHE', '000723.XSHE']\n",
      "关多仓: 000671.XSHE\n",
      "新开多仓: 600297.XSHG\n",
      "----------------------\n",
      "----------------------\n",
      "2020-11-09 00:00:00: \n",
      "我目前持仓情况:\n",
      "多头仓位: ['000723.XSHE', '000627.XSHE', '601117.XSHG', '600068.XSHG', '600297.XSHG']\n",
      "空头仓位: ['601398.XSHG', '601939.XSHG', '601318.XSHG', '600519.XSHG', '601628.XSHG']\n",
      "因子排名前5的股票:\n",
      "['600519.XSHG', '601398.XSHG', '601939.XSHG', '601318.XSHG', '601628.XSHG']\n",
      "因子排名后5的股票:\n",
      "['600208.XSHG', '002958.XSHE', '600271.XSHG', '000723.XSHE', '000627.XSHE']\n",
      "关多仓: 601117.XSHG\n",
      "关多仓: 600068.XSHG\n",
      "关多仓: 600297.XSHG\n",
      "新开多仓: 600208.XSHG\n",
      "新开多仓: 002958.XSHE\n",
      "新开多仓: 600271.XSHG\n",
      "----------------------\n",
      "----------------------\n",
      "2020-12-09 00:00:00: \n",
      "我目前持仓情况:\n",
      "多头仓位: ['000723.XSHE', '000627.XSHE', '600208.XSHG', '002958.XSHE', '600271.XSHG']\n",
      "空头仓位: ['601398.XSHG', '601939.XSHG', '601318.XSHG', '600519.XSHG', '601628.XSHG']\n",
      "因子排名前5的股票:\n",
      "['600519.XSHG', '601398.XSHG', '601939.XSHG', '601318.XSHG', '601628.XSHG']\n",
      "因子排名后5的股票:\n",
      "['600498.XSHG', '600208.XSHG', '600297.XSHG', '600271.XSHG', '000627.XSHE']\n",
      "关多仓: 000723.XSHE\n",
      "关多仓: 002958.XSHE\n",
      "新开多仓: 600498.XSHG\n",
      "新开多仓: 600297.XSHG\n",
      "----------------------\n"
     ]
    }
   ],
   "source": [
    "res = backtest.run()"
   ]
  },
  {
   "cell_type": "code",
   "execution_count": 25,
   "metadata": {},
   "outputs": [
    {
     "data": {
      "text/plain": [
       "28"
      ]
     },
     "execution_count": 25,
     "metadata": {},
     "output_type": "execute_result"
    }
   ],
   "source": [
    "len(res.trades)"
   ]
  },
  {
   "cell_type": "code",
   "execution_count": 26,
   "metadata": {},
   "outputs": [
    {
     "data": {
      "text/plain": [
       "[<matplotlib.lines.Line2D at 0x16b19aaa0>]"
      ]
     },
     "execution_count": 26,
     "metadata": {},
     "output_type": "execute_result"
    },
    {
     "data": {
      "image/png": "[encoded data removed]",
      "text/plain": [
       "<Figure size 640x480 with 1 Axes>"
      ]
     },
     "metadata": {},
     "output_type": "display_data"
    }
   ],
   "source": [
    "import matplotlib.pyplot as plt\n",
    "plt.plot(res.returns)"
   ]
  }
 ],
 "metadata": {
  "kernelspec": {
   "display_name": "py310",
   "language": "python",
   "name": "python3"
  },
  "language_info": {
   "codemirror_mode": {
    "name": "ipython",
    "version": 3
   },
   "file_extension": ".py",
   "mimetype": "text/x-python",
   "name": "python",
   "nbconvert_exporter": "python",
   "pygments_lexer": "ipython3",
   "version": "3.10.15"
  }
 },
 "nbformat": 4,
 "nbformat_minor": 2
}
