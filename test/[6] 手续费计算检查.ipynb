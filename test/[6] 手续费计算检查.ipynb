{
 "cells": [
  {
   "cell_type": "code",
   "execution_count": 5,
   "metadata": {},
   "outputs": [],
   "source": [
    "from dotenv import load_dotenv\n",
    "import os\n",
    "import sys\n",
    "load_dotenv()\n",
    "\n",
    "global_path = os.getenv('global_path')\n",
    "sys.path.append(global_path)"
   ]
  },
  {
   "cell_type": "code",
   "execution_count": 6,
   "metadata": {},
   "outputs": [],
   "source": [
    "from athena import Strategy, Backtest\n",
    "import pandas as pd"
   ]
  },
  {
   "cell_type": "code",
   "execution_count": 7,
   "metadata": {},
   "outputs": [],
   "source": [
    "MULTIPLE_ASSETS_DATA = pd.DataFrame(\n",
    "    index=['2023-10-18', '2023-10-19', '2023-10-20'],\n",
    "    data={\n",
    "        ('AAA','Open'): [100.0, 200.0, 300.0],\n",
    "        ('AAA','High'): [100.0, 200.0, 300.0],\n",
    "        ('AAA','Low'): [100.0, 200.0, 300.0],\n",
    "        ('AAA','Close'): [100.0, 200.0, 300.0],\n",
    "        ('AAA','Volume'): [2000000, 2500000, 3000000],\n",
    "        ('BBB','Open'): [100.0, 200.0, 300.0],\n",
    "        ('BBB','High'): [100.0, 200.0, 300.0],\n",
    "        ('BBB','Low'): [100.0, 200.0, 300.0],\n",
    "        ('BBB','Close'): [100.0, 200.0, 300.0],\n",
    "        ('BBB','Volume'): [1500000, 1700000, 1600000]\n",
    "    }\n",
    ")"
   ]
  },
  {
   "cell_type": "code",
   "execution_count": 8,
   "metadata": {},
   "outputs": [
    {
     "data": {
      "text/html": [
       "<div>\n",
       "<style scoped>\n",
       "    .dataframe tbody tr th:only-of-type {\n",
       "        vertical-align: middle;\n",
       "    }\n",
       "\n",
       "    .dataframe tbody tr th {\n",
       "        vertical-align: top;\n",
       "    }\n",
       "\n",
       "    .dataframe thead tr th {\n",
       "        text-align: left;\n",
       "    }\n",
       "</style>\n",
       "<table border=\"1\" class=\"dataframe\">\n",
       "  <thead>\n",
       "    <tr>\n",
       "      <th></th>\n",
       "      <th colspan=\"5\" halign=\"left\">AAA</th>\n",
       "      <th colspan=\"5\" halign=\"left\">BBB</th>\n",
       "    </tr>\n",
       "    <tr>\n",
       "      <th></th>\n",
       "      <th>Open</th>\n",
       "      <th>High</th>\n",
       "      <th>Low</th>\n",
       "      <th>Close</th>\n",
       "      <th>Volume</th>\n",
       "      <th>Open</th>\n",
       "      <th>High</th>\n",
       "      <th>Low</th>\n",
       "      <th>Close</th>\n",
       "      <th>Volume</th>\n",
       "    </tr>\n",
       "  </thead>\n",
       "  <tbody>\n",
       "    <tr>\n",
       "      <th>2023-10-18</th>\n",
       "      <td>100.0</td>\n",
       "      <td>100.0</td>\n",
       "      <td>100.0</td>\n",
       "      <td>100.0</td>\n",
       "      <td>2000000</td>\n",
       "      <td>100.0</td>\n",
       "      <td>100.0</td>\n",
       "      <td>100.0</td>\n",
       "      <td>100.0</td>\n",
       "      <td>1500000</td>\n",
       "    </tr>\n",
       "    <tr>\n",
       "      <th>2023-10-19</th>\n",
       "      <td>200.0</td>\n",
       "      <td>200.0</td>\n",
       "      <td>200.0</td>\n",
       "      <td>200.0</td>\n",
       "      <td>2500000</td>\n",
       "      <td>200.0</td>\n",
       "      <td>200.0</td>\n",
       "      <td>200.0</td>\n",
       "      <td>200.0</td>\n",
       "      <td>1700000</td>\n",
       "    </tr>\n",
       "    <tr>\n",
       "      <th>2023-10-20</th>\n",
       "      <td>300.0</td>\n",
       "      <td>300.0</td>\n",
       "      <td>300.0</td>\n",
       "      <td>300.0</td>\n",
       "      <td>3000000</td>\n",
       "      <td>300.0</td>\n",
       "      <td>300.0</td>\n",
       "      <td>300.0</td>\n",
       "      <td>300.0</td>\n",
       "      <td>1600000</td>\n",
       "    </tr>\n",
       "  </tbody>\n",
       "</table>\n",
       "</div>"
      ],
      "text/plain": [
       "              AAA                                  BBB                       \\\n",
       "             Open   High    Low  Close   Volume   Open   High    Low  Close   \n",
       "2023-10-18  100.0  100.0  100.0  100.0  2000000  100.0  100.0  100.0  100.0   \n",
       "2023-10-19  200.0  200.0  200.0  200.0  2500000  200.0  200.0  200.0  200.0   \n",
       "2023-10-20  300.0  300.0  300.0  300.0  3000000  300.0  300.0  300.0  300.0   \n",
       "\n",
       "                     \n",
       "             Volume  \n",
       "2023-10-18  1500000  \n",
       "2023-10-19  1700000  \n",
       "2023-10-20  1600000  "
      ]
     },
     "execution_count": 8,
     "metadata": {},
     "output_type": "execute_result"
    }
   ],
   "source": [
    "MULTIPLE_ASSETS_DATA"
   ]
  },
  {
   "cell_type": "code",
   "execution_count": 5,
   "metadata": {},
   "outputs": [
    {
     "name": "stdout",
     "output_type": "stream",
     "text": [
      "所有未平仓持仓已经清算完毕！\n",
      "回测结束，总资金: 1288.6756363636364\n"
     ]
    }
   ],
   "source": [
    "# 这是对于多仓的测试\n",
    "class SingleAssetStrategy(Strategy):\n",
    "    def init(self):\n",
    "        pass\n",
    "\n",
    "    def next(self, i, record):\n",
    "        self.open(symbol='AAA', size = 1/10, price=record[('AAA','Open')], short=False, is_fractional=True)\n",
    "        self.open(symbol='BBB', size = 1/10, price=record[('BBB','Open')], short=False, is_fractional=True)\n",
    "\n",
    "backtest = Backtest(SingleAssetStrategy, MULTIPLE_ASSETS_DATA, commission=0.1, cash=1000)\n",
    "res = backtest.run()"
   ]
  },
  {
   "cell_type": "code",
   "execution_count": 5,
   "metadata": {},
   "outputs": [
    {
     "name": "stdout",
     "output_type": "stream",
     "text": [
      "所有未平仓持仓已经清算完毕！\n",
      "回测结束，总资金: 457.8574545454545\n"
     ]
    }
   ],
   "source": [
    "# 这是对于空仓的测试\n",
    "class SingleAssetStrategy(Strategy):\n",
    "    def init(self):\n",
    "        pass\n",
    "\n",
    "    def next(self, i, record):\n",
    "        \n",
    "        self.open(symbol='AAA', size = 1/10, price=record[('AAA','Open')], short=True, is_fractional=True)\n",
    "        self.open(symbol='BBB', size = 1/10, price=record[('BBB','Open')], short=True, is_fractional=True)\n",
    "\n",
    "backtest = Backtest(SingleAssetStrategy, MULTIPLE_ASSETS_DATA, commission=0.1, cash=1000)\n",
    "res = backtest.run()"
   ]
  },
  {
   "cell_type": "code",
   "execution_count": null,
   "metadata": {},
   "outputs": [
    {
     "name": "stdout",
     "output_type": "stream",
     "text": [
      "买完后可用资金 900.0\n",
      "买完后可用资金 540.9090909090909\n",
      "所有未平仓持仓已经清算完毕！\n",
      "回测结束，总资金: 1080.1652892561983\n"
     ]
    }
   ],
   "source": [
    "# order_target_percent增仓\n",
    "class SingleAssetStrategy(Strategy):\n",
    "    def init(self):\n",
    "        pass\n",
    "\n",
    "    def next(self, i, record):\n",
    "        if i == 0:\n",
    "            self.order_target_percent(symbol='AAA', target_percent=0.1, price=record[('AAA','Open')], short=False)\n",
    "            print(\"买完后可用资金\", self.broker.cash)\n",
    "        \n",
    "        if i == 2:\n",
    "            self.order_target_percent(symbol='AAA', target_percent=0.5, price=record[('AAA','Open')], short=False)\n",
    "            print(\"买完后可用资金\", self.broker.cash)\n",
    "        \n",
    "\n",
    "backtest = Backtest(SingleAssetStrategy, MULTIPLE_ASSETS_DATA, commission=0.1, cash=1000)\n",
    "res = backtest.run()"
   ]
  },
  {
   "cell_type": "code",
   "execution_count": 4,
   "metadata": {},
   "outputs": [
    {
     "name": "stdout",
     "output_type": "stream",
     "text": [
      "可供使用用资金 1000\n",
      "持仓价值 0.0\n",
      "买完后可用资金 500.0\n",
      "可供使用用资金 500.0\n",
      "持仓价值 500.0\n",
      "可供使用用资金 500.0\n",
      "持仓价值 1000.0\n",
      "买完后可用资金 1350.0\n",
      "所有未平仓持仓已经清算完毕！\n",
      "回测结束，总资金: 2000.0\n",
      "减仓仓位的记录:  [Trade(symbol='AAA', short=False, open_date='2023-10-18', close_date='2023-10-20', open_price=100.0, close_price=300.0, position_size=2.8333333333333335, profit_loss=566.6666666666666, change_pct=2.0, trade_commission=0.0, cumulative_return=1566.6666666666665), Trade(symbol='AAA', short=False, open_date='2023-10-18', close_date='2023-10-20', open_price=100.0, close_price=300.0, position_size=2.1666666666666665, profit_loss=433.3333333333333, change_pct=200.0, trade_commission=0.0, cumulative_return=1999.9999999999998)]\n"
     ]
    }
   ],
   "source": [
    "# order_target_percent减仓\n",
    "class SingleAssetStrategy(Strategy):\n",
    "    def init(self):\n",
    "        pass\n",
    "\n",
    "    def next(self, i, record):\n",
    "        \n",
    "        print(\"可供使用用资金\", self.broker.cash)\n",
    "        print(\"持仓价值\", self.broker.assets_value) # 问题是到了新的一天我的持仓价值还没有更新\n",
    "\n",
    "        if i == 0:\n",
    "            # 这里出现了个bug，target_value要下1单，但是1被当作分数下了全单\n",
    "            self.order_target_percent(symbol='AAA', target_percent=0.5, price=record[('AAA','Open')], short=False)\n",
    "            print(\"买完后可用资金\", self.broker.cash)\n",
    "        \n",
    "        if i == 2:\n",
    "            self.order_target_percent(symbol='AAA', target_percent=0.1, price=record[('AAA','Open')], short=False)\n",
    "            print(\"买完后可用资金\", self.broker.cash)\n",
    "        \n",
    "\n",
    "backtest = Backtest(SingleAssetStrategy, MULTIPLE_ASSETS_DATA, commission=0, cash=1000)\n",
    "res = backtest.run()\n",
    "\n",
    "print(\"减仓仓位的记录: \", res.trades)"
   ]
  }
 ],
 "metadata": {
  "kernelspec": {
   "display_name": "py310",
   "language": "python",
   "name": "python3"
  },
  "language_info": {
   "codemirror_mode": {
    "name": "ipython",
    "version": 3
   },
   "file_extension": ".py",
   "mimetype": "text/x-python",
   "name": "python",
   "nbconvert_exporter": "python",
   "pygments_lexer": "ipython3",
   "version": "3.10.13"
  }
 },
 "nbformat": 4,
 "nbformat_minor": 2
}
